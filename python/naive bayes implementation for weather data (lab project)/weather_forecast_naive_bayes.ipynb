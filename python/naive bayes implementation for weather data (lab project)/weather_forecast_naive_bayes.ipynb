{
 "cells": [
  {
   "cell_type": "code",
   "execution_count": 11,
   "metadata": {},
   "outputs": [
    {
     "data": {
      "text/plain": [
       "[['overcast', 'hot', 'high', 'FALSE', 'yes'],\n",
       " ['overcast', 'cool', 'normal', 'TRUE', 'yes'],\n",
       " ['overcast', 'mild', 'high', 'TRUE', 'yes'],\n",
       " ['overcast', 'hot', 'normal', 'FALSE', 'yes'],\n",
       " ['rainy', 'mild', 'high', 'FALSE', 'yes'],\n",
       " ['rainy', 'cool', 'normal', 'FALSE', 'yes'],\n",
       " ['rainy', 'cool', 'normal', 'TRUE', 'no'],\n",
       " ['rainy', 'mild', 'normal', 'FALSE', 'yes'],\n",
       " ['rainy', 'mild', 'high', 'TRUE', 'no'],\n",
       " ['sunny', 'hot', 'high', 'FALSE', 'no'],\n",
       " ['sunny', 'hot', 'high', 'TRUE', 'no'],\n",
       " ['sunny', 'mild', 'high', 'FALSE', 'no'],\n",
       " ['sunny', 'cool', 'normal', 'FALSE', 'yes'],\n",
       " ['sunny', 'mild', 'normal', 'TRUE', 'yes']]"
      ]
     },
     "execution_count": 11,
     "metadata": {},
     "output_type": "execute_result"
    }
   ],
   "source": [
    "f = open(\"data.csv\",\"r\")  # Outlook, temp, Humidity, Windy, Play\n",
    "my_data = f.read()\n",
    "data = []\n",
    "lines = my_data.split()\n",
    "for line in lines:\n",
    "    data.append((line.split(\",\")))\n",
    "\n",
    "data"
   ]
  },
  {
   "cell_type": "code",
   "execution_count": 12,
   "metadata": {},
   "outputs": [
    {
     "data": {
      "text/plain": [
       "[[1, 1, 1, 2, 'yes'],\n",
       " [1, 2, 2, 1, 'yes'],\n",
       " [1, 3, 1, 1, 'yes'],\n",
       " [1, 1, 2, 2, 'yes'],\n",
       " [3, 3, 1, 2, 'yes'],\n",
       " [3, 2, 2, 2, 'yes'],\n",
       " [3, 2, 2, 1, 'no'],\n",
       " [3, 3, 2, 2, 'yes'],\n",
       " [3, 3, 1, 1, 'no'],\n",
       " [2, 1, 1, 2, 'no'],\n",
       " [2, 1, 1, 1, 'no'],\n",
       " [2, 3, 1, 2, 'no'],\n",
       " [2, 2, 2, 2, 'yes'],\n",
       " [2, 3, 2, 1, 'yes']]"
      ]
     },
     "execution_count": 12,
     "metadata": {},
     "output_type": "execute_result"
    }
   ],
   "source": [
    "def data_prep(data):\n",
    "    for i in range(len(data)):\n",
    "        # Outlook\n",
    "        if data[i][0] == 'overcast':\n",
    "            data[i][0] = 1\n",
    "        elif data[i][0] == 'sunny':\n",
    "            data[i][0] = 2\n",
    "        else:\n",
    "            data[i][0] = 3 # rainy\n",
    "\n",
    "        # Temp\n",
    "        if data[i][1] == 'hot':\n",
    "            data[i][1] = 1\n",
    "        elif data[i][1] == 'cool':\n",
    "            data[i][1] = 2\n",
    "        else: # mild\n",
    "            data[i][1] = 3\n",
    "\n",
    "        # Humidity\n",
    "        if data[i][2] == 'high':\n",
    "            data[i][2] = 1\n",
    "        else:\n",
    "            data[i][2] = 2 # normal\n",
    "\n",
    "        # Windy\n",
    "        if data[i][3] == 'FALSE':\n",
    "            data[i][3] = 2\n",
    "        else:\n",
    "            data[i][3] = 1 # true\n",
    "\n",
    "    return data\n",
    "\n",
    "data = data_prep(data)\n",
    "data"
   ]
  },
  {
   "cell_type": "code",
   "execution_count": 3,
   "metadata": {},
   "outputs": [
    {
     "name": "stdout",
     "output_type": "stream",
     "text": [
      "outlook: [[4, 2, 3], [0, 3, 2]]\n",
      "temp: [[2, 3, 4], [2, 1, 2]]\n",
      "weather: [[3, 6], [4, 1]]\n",
      "windy: [[3, 6], [3, 4]]\n",
      "frequency_table: [[[4, 2, 3], [0, 3, 2]], [[2, 3, 4], [2, 1, 2]], [[3, 6], [4, 1]], [[3, 6], [3, 4]]]\n"
     ]
    }
   ],
   "source": [
    "def generate_frequency_table(data):\n",
    "    # Outlook, temp, Humidity, Windy\n",
    "    freq = []\n",
    "    overcast_Y = 0\n",
    "    sunny_Y = 0\n",
    "    rainy_Y = 0\n",
    "    overcast_N = 0\n",
    "    sunny_N = 0\n",
    "    rainy_N = 0\n",
    "    for i in range(len(data)):\n",
    "        if data[i][4] == 'yes':\n",
    "            if data[i][0] == 1:\n",
    "                overcast_Y += 1\n",
    "            elif data[i][0] == 2:\n",
    "                sunny_Y += 1\n",
    "            else:\n",
    "                rainy_Y += 1\n",
    "        else:\n",
    "            if data[i][0] == 1:\n",
    "                overcast_N += 1\n",
    "            elif data[i][0] == 2:\n",
    "                sunny_N += 1\n",
    "            else:\n",
    "                rainy_N += 1\n",
    "\n",
    "    outlook = [[overcast_Y, sunny_Y, rainy_Y],[overcast_N, sunny_N, rainy_N]]\n",
    "    print(\"outlook:\", outlook)\n",
    "    freq.append(outlook)\n",
    "\n",
    "    hot_Y = 0\n",
    "    hot_N = 0\n",
    "    cool_Y = 0\n",
    "    cool_N = 0\n",
    "    mild_Y = 0\n",
    "    mild_N = 0\n",
    "    for i in range(len(data)):\n",
    "        if data[i][4] == 'yes':\n",
    "            if data[i][1] == 1:\n",
    "                hot_Y += 1\n",
    "            elif data[i][1] == 2:\n",
    "                cool_Y += 1\n",
    "            else:\n",
    "                mild_Y += 1\n",
    "        else:\n",
    "            if data[i][1] == 1:\n",
    "                hot_N += 1\n",
    "            elif data[i][1] == 2:\n",
    "                cool_N += 1\n",
    "            else:\n",
    "                mild_N += 1\n",
    "    temp = [[hot_Y,cool_Y,mild_Y],[hot_N,cool_N,mild_N]]\n",
    "    print(\"temp:\", temp)\n",
    "    freq.append(temp)\n",
    "\n",
    "    high_Y = 0\n",
    "    high_N = 0\n",
    "    normal_Y = 0\n",
    "    normal_N = 0\n",
    "    for i in range(len(data)):\n",
    "        if data[i][4] == 'yes':\n",
    "            if data[i][2] == 1:\n",
    "                high_Y += 1\n",
    "            else:\n",
    "                normal_Y += 1\n",
    "        else:\n",
    "            if data[i][2] == 1:\n",
    "                high_N += 1\n",
    "            else:\n",
    "                normal_N += 1\n",
    "    weather = [[high_Y,normal_Y],[high_N,normal_N]]\n",
    "    print(\"weather:\", weather)\n",
    "    freq.append(weather)\n",
    "\n",
    "    false_Y = 0\n",
    "    false_N = 0\n",
    "    true_Y = 0\n",
    "    true_N = 0\n",
    "    for i in range(len(data)):\n",
    "        if data[i][4] == 'yes':\n",
    "            if data[i][3] == 1:\n",
    "                true_Y += 1\n",
    "            else:\n",
    "                false_Y += 1\n",
    "        else:\n",
    "            if data[i][3] == 1:\n",
    "                true_N += 1\n",
    "            else:\n",
    "                false_N += 2\n",
    "    windy = [[true_Y,false_Y],[true_N,false_N]]\n",
    "    print(\"windy:\", windy)\n",
    "    freq.append(windy)\n",
    "    return freq\n",
    "\n",
    "frequency_table = generate_frequency_table(data)\n",
    "print(\"frequency_table:\",frequency_table)"
   ]
  },
  {
   "cell_type": "code",
   "execution_count": 5,
   "metadata": {},
   "outputs": [
    {
     "name": "stdout",
     "output_type": "stream",
     "text": [
      "P_yes: 0.6428571428571429\n",
      "P_no: 0.3571428571428571\n"
     ]
    }
   ],
   "source": [
    "P_yes = sum([frequency_table[0][0][i] for i in range(len(frequency_table[0][0]))])\n",
    "P_yes = P_yes / (P_yes + sum([frequency_table[0][1][i] for i in range(len(frequency_table[0][1]))]))\n",
    "P_no = 1 - P_yes\n",
    "print(\"P_yes:\",P_yes)\n",
    "print(\"P_no:\",P_no)"
   ]
  },
  {
   "cell_type": "code",
   "execution_count": 10,
   "metadata": {},
   "outputs": [
    {
     "name": "stdout",
     "output_type": "stream",
     "text": [
      "likelihood_table:\n"
     ]
    },
    {
     "data": {
      "text/plain": [
       "[[[0.4444444444444444, 0.2222222222222222, 0.3333333333333333],\n",
       "  [0.0, 0.6, 0.4]],\n",
       " [[0.2222222222222222, 0.3333333333333333, 0.4444444444444444],\n",
       "  [0.4, 0.2, 0.4]],\n",
       " [[0.3333333333333333, 0.6666666666666666], [0.8, 0.2]],\n",
       " [[0.3333333333333333, 0.6666666666666666],\n",
       "  [0.42857142857142855, 0.5714285714285714]]]"
      ]
     },
     "execution_count": 10,
     "metadata": {},
     "output_type": "execute_result"
    }
   ],
   "source": [
    "def generate_likelihood_table(data):\n",
    "    for k in range(4):\n",
    "        for j in range(2):\n",
    "            sm = sum([data[k][j][i] for i in range(len(data[k][j]))])\n",
    "            #print(sm)\n",
    "            for i in range(len(data[k][j])):\n",
    "                data[k][j][i] = float(data[k][j][i]/sm)\n",
    "    \n",
    "    return data\n",
    "\n",
    "likelihood_table = generate_likelihood_table(frequency_table)\n",
    "print(\"likelihood_table:\")\n",
    "likelihood_table"
   ]
  },
  {
   "cell_type": "code",
   "execution_count": 17,
   "metadata": {},
   "outputs": [
    {
     "name": "stdout",
     "output_type": "stream",
     "text": [
      "Enter Outlook,Temp,Humidity,Windy to Decide Wether to play or not, (eg: sunny,mild,high,TRUE):  sunny,mild,high,TRUE\n"
     ]
    }
   ],
   "source": [
    "inp = input(\"Enter Outlook,Temp,Humidity,Windy to Decide Wether to play or not, (eg: sunny,mild,high,TRUE):  \")"
   ]
  },
  {
   "cell_type": "code",
   "execution_count": 18,
   "metadata": {},
   "outputs": [
    {
     "data": {
      "text/plain": [
       "[[2, 3, 1, 1]]"
      ]
     },
     "execution_count": 18,
     "metadata": {},
     "output_type": "execute_result"
    }
   ],
   "source": [
    "inp_data = inp.split(\",\")\n",
    "\n",
    "inp_data = data_prep([inp_data])\n",
    "inp_data"
   ]
  },
  {
   "cell_type": "code",
   "execution_count": 16,
   "metadata": {},
   "outputs": [
    {
     "data": {
      "text/plain": [
       "('No', 0.8064159292035398)"
      ]
     },
     "execution_count": 16,
     "metadata": {},
     "output_type": "execute_result"
    }
   ],
   "source": [
    "def predict(inp_data,likelihood_table):\n",
    "    yes = P_yes\n",
    "    no = P_no\n",
    "    for i in range(4):\n",
    "        yes = yes * likelihood_table[i][0][inp_data[0][i]-1]\n",
    "        no = no * likelihood_table[i][1][inp_data[0][i]-1]\n",
    "    acc = yes / (yes + no) \n",
    "    if yes > no:\n",
    "        return \"Yes\", acc\n",
    "    else:\n",
    "        return \"No\", 1 - acc\n",
    "    \n",
    "    \n",
    "predict(inp_data, likelihood_table)"
   ]
  },
  {
   "cell_type": "code",
   "execution_count": null,
   "metadata": {},
   "outputs": [],
   "source": []
  }
 ],
 "metadata": {
  "kernelspec": {
   "display_name": "Python 3",
   "language": "python",
   "name": "python3"
  },
  "language_info": {
   "codemirror_mode": {
    "name": "ipython",
    "version": 3
   },
   "file_extension": ".py",
   "mimetype": "text/x-python",
   "name": "python",
   "nbconvert_exporter": "python",
   "pygments_lexer": "ipython3",
   "version": "3.7.3"
  }
 },
 "nbformat": 4,
 "nbformat_minor": 2
}
