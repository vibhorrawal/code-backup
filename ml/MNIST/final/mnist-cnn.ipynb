{
 "cells": [
  {
   "cell_type": "code",
   "execution_count": null,
   "metadata": {},
   "outputs": [],
   "source": [
    "# using convolutional neural network to make a classifier (supervised) on MNIST dataset\n",
    "# date:4 Feb 2019"
   ]
  },
  {
   "cell_type": "code",
   "execution_count": 2,
   "metadata": {},
   "outputs": [
    {
     "name": "stderr",
     "output_type": "stream",
     "text": [
      "Using TensorFlow backend.\n"
     ]
    }
   ],
   "source": [
    "import tensorflow as tf\n",
    "from keras.models import Sequential\n",
    "from keras.layers import MaxPooling2D\n",
    "from keras.layers import Flatten\n",
    "from keras.layers import Dense\n",
    "from keras.layers import Dropout\n",
    "from keras.layers import Convolution2D\n",
    "import keras\n",
    "import numpy as np\n",
    "import matplotlib.pyplot as plt"
   ]
  },
  {
   "cell_type": "code",
   "execution_count": 3,
   "metadata": {},
   "outputs": [],
   "source": [
    "# dataset\n",
    "(x_train, y_train),(x_test, y_test) = tf.keras.datasets.mnist.load_data()"
   ]
  },
  {
   "cell_type": "code",
   "execution_count": 3,
   "metadata": {},
   "outputs": [],
   "source": [
    "# reshaping data\n",
    "x_train = x_train.reshape(x_train.shape[0],28,28,1)\n",
    "x_test = x_test.reshape(x_test.shape[0],28,28,1)"
   ]
  },
  {
   "cell_type": "code",
   "execution_count": 4,
   "metadata": {},
   "outputs": [],
   "source": [
    "classifier = Sequential()\n",
    "\n",
    "classifier.add(Convolution2D(14,(3,3), input_shape = (28,28,1)))\n",
    "classifier.add(MaxPooling2D(pool_size = (2,2)))\n",
    "classifier.add(Flatten())\n"
   ]
  },
  {
   "cell_type": "code",
   "execution_count": 5,
   "metadata": {},
   "outputs": [],
   "source": [
    "# connections\n",
    "classifier.add(Dense(units = 50,activation = 'relu'))\n",
    "classifier.add(Dropout(0.2))\n",
    "classifier.add(Dense(units = 21,activation = 'relu'))\n",
    "classifier.add(Dropout(0.2))\n",
    "classifier.add(Dense(units = 10, activation = 'softmax'))"
   ]
  },
  {
   "cell_type": "code",
   "execution_count": 5,
   "metadata": {},
   "outputs": [
    {
     "name": "stdout",
     "output_type": "stream",
     "text": [
      "_________________________________________________________________\n",
      "Layer (type)                 Output Shape              Param #   \n",
      "=================================================================\n",
      "conv2d_1 (Conv2D)            (None, 26, 26, 14)        140       \n",
      "_________________________________________________________________\n",
      "max_pooling2d_1 (MaxPooling2 (None, 13, 13, 14)        0         \n",
      "_________________________________________________________________\n",
      "flatten_1 (Flatten)          (None, 2366)              0         \n",
      "=================================================================\n",
      "Total params: 140\n",
      "Trainable params: 140\n",
      "Non-trainable params: 0\n",
      "_________________________________________________________________\n"
     ]
    }
   ],
   "source": [
    "classifier.summary()"
   ]
  },
  {
   "cell_type": "code",
   "execution_count": 6,
   "metadata": {},
   "outputs": [],
   "source": [
    "# compiling \n",
    "classifier.compile(optimizer = 'adam', loss = 'sparse_categorical_crossentropy', metrics = ['accuracy'])"
   ]
  },
  {
   "cell_type": "code",
   "execution_count": 7,
   "metadata": {},
   "outputs": [
    {
     "name": "stdout",
     "output_type": "stream",
     "text": [
      "Epoch 1/25\n",
      "60000/60000 [==============================] - 11s 184us/step - loss: 2.7144 - acc: 0.4077\n",
      "Epoch 2/25\n",
      "60000/60000 [==============================] - 11s 181us/step - loss: 0.9597 - acc: 0.7069\n",
      "Epoch 3/25\n",
      "60000/60000 [==============================] - 11s 178us/step - loss: 0.5762 - acc: 0.8268\n",
      "Epoch 4/25\n",
      "60000/60000 [==============================] - 10s 174us/step - loss: 0.4192 - acc: 0.8752\n",
      "Epoch 5/25\n",
      "60000/60000 [==============================] - 10s 173us/step - loss: 0.3153 - acc: 0.9083\n",
      "Epoch 6/25\n",
      "60000/60000 [==============================] - 10s 174us/step - loss: 0.2627 - acc: 0.9250\n",
      "Epoch 7/25\n",
      "60000/60000 [==============================] - 10s 175us/step - loss: 0.2173 - acc: 0.9382\n",
      "Epoch 8/25\n",
      "60000/60000 [==============================] - 12s 208us/step - loss: 0.1986 - acc: 0.9425\n",
      "Epoch 9/25\n",
      "60000/60000 [==============================] - 11s 181us/step - loss: 0.1755 - acc: 0.9490\n",
      "Epoch 10/25\n",
      "60000/60000 [==============================] - 11s 184us/step - loss: 0.1631 - acc: 0.9535\n",
      "Epoch 11/25\n",
      "60000/60000 [==============================] - 11s 180us/step - loss: 0.1492 - acc: 0.9569\n",
      "Epoch 12/25\n",
      "60000/60000 [==============================] - 11s 175us/step - loss: 0.1430 - acc: 0.9593\n",
      "Epoch 13/25\n",
      "60000/60000 [==============================] - 11s 180us/step - loss: 0.1289 - acc: 0.9632\n",
      "Epoch 14/25\n",
      "60000/60000 [==============================] - 11s 183us/step - loss: 0.1216 - acc: 0.9650\n",
      "Epoch 15/25\n",
      "60000/60000 [==============================] - 11s 183us/step - loss: 0.1129 - acc: 0.9685\n",
      "Epoch 16/25\n",
      "60000/60000 [==============================] - 11s 191us/step - loss: 0.1080 - acc: 0.9687\n",
      "Epoch 17/25\n",
      "60000/60000 [==============================] - 10s 169us/step - loss: 0.1023 - acc: 0.9711\n",
      "Epoch 18/25\n",
      "60000/60000 [==============================] - 10s 164us/step - loss: 0.1003 - acc: 0.9707\n",
      "Epoch 19/25\n",
      "60000/60000 [==============================] - 11s 181us/step - loss: 0.1002 - acc: 0.9724\n",
      "Epoch 20/25\n",
      "60000/60000 [==============================] - 11s 182us/step - loss: 0.1015 - acc: 0.9712\n",
      "Epoch 21/25\n",
      "60000/60000 [==============================] - 11s 183us/step - loss: 0.0898 - acc: 0.9745\n",
      "Epoch 22/25\n",
      "60000/60000 [==============================] - 11s 191us/step - loss: 0.0863 - acc: 0.9749\n",
      "Epoch 23/25\n",
      "60000/60000 [==============================] - 10s 173us/step - loss: 0.0829 - acc: 0.9755\n",
      "Epoch 24/25\n",
      "60000/60000 [==============================] - 9s 157us/step - loss: 0.0801 - acc: 0.9769\n",
      "Epoch 25/25\n",
      "60000/60000 [==============================] - 10s 167us/step - loss: 0.0747 - acc: 0.9777\n"
     ]
    },
    {
     "data": {
      "text/plain": [
       "<keras.callbacks.History at 0x7f6d07e85908>"
      ]
     },
     "execution_count": 7,
     "metadata": {},
     "output_type": "execute_result"
    }
   ],
   "source": [
    "# train\n",
    "classifier.fit(x_train,y_train,epochs = 25, batch_size =200)"
   ]
  },
  {
   "cell_type": "code",
   "execution_count": 8,
   "metadata": {},
   "outputs": [
    {
     "name": "stdout",
     "output_type": "stream",
     "text": [
      "10000/10000 [==============================] - 1s 97us/step\n"
     ]
    },
    {
     "data": {
      "text/plain": [
       "[0.10947467508818118, 0.9755]"
      ]
     },
     "execution_count": 8,
     "metadata": {},
     "output_type": "execute_result"
    }
   ],
   "source": [
    "# evaluation\n",
    "classifier.evaluate(x_test,y_test)"
   ]
  }
 ],
 "metadata": {
  "kernelspec": {
   "display_name": "Python 3",
   "language": "python",
   "name": "python3"
  },
  "language_info": {
   "codemirror_mode": {
    "name": "ipython",
    "version": 3
   },
   "file_extension": ".py",
   "mimetype": "text/x-python",
   "name": "python",
   "nbconvert_exporter": "python",
   "pygments_lexer": "ipython3",
   "version": "3.6.7"
  }
 },
 "nbformat": 4,
 "nbformat_minor": 2
}
