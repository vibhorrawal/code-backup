{
 "cells": [
  {
   "cell_type": "code",
   "execution_count": 89,
   "metadata": {},
   "outputs": [],
   "source": [
    "# using neural network to make a classifier (supervised) on MNIST dataset\n",
    "# date:4 Feb 2019"
   ]
  },
  {
   "cell_type": "code",
   "execution_count": 90,
   "metadata": {},
   "outputs": [],
   "source": [
    "import tensorflow as tf\n",
    "from keras.models import Sequential\n",
    "from keras.layers import MaxPooling2D\n",
    "from keras.layers import Flatten\n",
    "from keras.layers import Dense\n",
    "from keras.layers import Dropout\n",
    "import keras\n",
    "import numpy as np\n",
    "import matplotlib.pyplot as plt"
   ]
  },
  {
   "cell_type": "code",
   "execution_count": 91,
   "metadata": {},
   "outputs": [],
   "source": [
    "# dataset\n",
    "(x_train, y_train),(x_test, y_test) = tf.keras.datasets.mnist.load_data()"
   ]
  },
  {
   "cell_type": "code",
   "execution_count": 92,
   "metadata": {},
   "outputs": [
    {
     "data": {
      "text/plain": [
       "<matplotlib.image.AxesImage at 0x7fe6c57873c8>"
      ]
     },
     "execution_count": 92,
     "metadata": {},
     "output_type": "execute_result"
    },
    {
     "data": {
      "image/png": "[encoded data removed]",
      "text/plain": [
       "<Figure size 432x288 with 1 Axes>"
      ]
     },
     "metadata": {
      "needs_background": "light"
     },
     "output_type": "display_data"
    }
   ],
   "source": [
    "plt.imshow(x_train[1])\n",
    "\n"
   ]
  },
  {
   "cell_type": "code",
   "execution_count": 93,
   "metadata": {},
   "outputs": [],
   "source": [
    "# reshaping data\n",
    "\n",
    "x_train_reshaped = []\n",
    "\n",
    "for i in range(x_train.shape[0]):\n",
    "               x_train_reshaped.append(x_train[i].reshape(784))\n",
    "               \n",
    "x_test_reshaped = []\n",
    "               \n",
    "for i in range(x_test.shape[0]):\n",
    "               x_test_reshaped.append(x_test[i].reshape(784))      \n",
    "# numpy array\n",
    "x = np.array(x_train_reshaped)   \n",
    "x_test = np.array(x_test_reshaped)"
   ]
  },
  {
   "cell_type": "code",
   "execution_count": 94,
   "metadata": {},
   "outputs": [],
   "source": [
    "# classifier constructing by sequence\n",
    "classifier = Sequential()"
   ]
  },
  {
   "cell_type": "code",
   "execution_count": 95,
   "metadata": {},
   "outputs": [],
   "source": [
    "classifier.add(Dense(units = 300, input_dim = 784,activation = 'relu'))\n",
    "classifier.add(Dropout(0.2))\n",
    "classifier.add(Dense(units = 100,activation = 'relu'))\n",
    "classifier.add(Dropout(0.2))\n",
    "classifier.add(Dense(units = 70,activation = 'relu'))\n",
    "classifier.add(Dropout(0.2))\n",
    "classifier.add(Dense(units = 50,activation = 'relu'))\n",
    "classifier.add(Dropout(0.2))\n",
    "classifier.add(Dense(units = 25,activation = 'relu'))\n",
    "classifier.add(Dropout(0.2))\n",
    "classifier.add(Dense(units = 10,activation = 'softmax'))"
   ]
  },
  {
   "cell_type": "code",
   "execution_count": 96,
   "metadata": {},
   "outputs": [],
   "source": [
    "classifier.compile(optimizer = 'adam', loss = 'sparse_categorical_crossentropy',metrics = ['accuracy'])"
   ]
  },
  {
   "cell_type": "code",
   "execution_count": 97,
   "metadata": {
    "scrolled": false
   },
   "outputs": [
    {
     "name": "stdout",
     "output_type": "stream",
     "text": [
      "Epoch 1/25\n",
      "60000/60000 [==============================] - 5s 89us/step - loss: 4.9146 - acc: 0.4123\n",
      "Epoch 2/25\n",
      "60000/60000 [==============================] - 3s 57us/step - loss: 1.0299 - acc: 0.7019\n",
      "Epoch 3/25\n",
      "60000/60000 [==============================] - 3s 58us/step - loss: 0.6452 - acc: 0.8272\n",
      "Epoch 4/25\n",
      "60000/60000 [==============================] - 3s 57us/step - loss: 0.4817 - acc: 0.8780\n",
      "Epoch 5/25\n",
      "60000/60000 [==============================] - 4s 63us/step - loss: 0.3954 - acc: 0.9016\n",
      "Epoch 6/25\n",
      "60000/60000 [==============================] - 3s 55us/step - loss: 0.3389 - acc: 0.9196\n",
      "Epoch 7/25\n",
      "60000/60000 [==============================] - 3s 54us/step - loss: 0.2909 - acc: 0.9308\n",
      "Epoch 8/25\n",
      "60000/60000 [==============================] - 3s 58us/step - loss: 0.2695 - acc: 0.9356\n",
      "Epoch 9/25\n",
      "60000/60000 [==============================] - 5s 79us/step - loss: 0.2440 - acc: 0.9437\n",
      "Epoch 10/25\n",
      "60000/60000 [==============================] - 4s 62us/step - loss: 0.2167 - acc: 0.9483\n",
      "Epoch 11/25\n",
      "60000/60000 [==============================] - 3s 50us/step - loss: 0.2070 - acc: 0.9514\n",
      "Epoch 12/25\n",
      "60000/60000 [==============================] - 3s 54us/step - loss: 0.1892 - acc: 0.9552\n",
      "Epoch 13/25\n",
      "60000/60000 [==============================] - 3s 51us/step - loss: 0.1853 - acc: 0.9575\n",
      "Epoch 14/25\n",
      "60000/60000 [==============================] - 3s 50us/step - loss: 0.1705 - acc: 0.9598\n",
      "Epoch 15/25\n",
      "60000/60000 [==============================] - 3s 50us/step - loss: 0.1561 - acc: 0.9627\n",
      "Epoch 16/25\n",
      "60000/60000 [==============================] - 3s 51us/step - loss: 0.1522 - acc: 0.9641\n",
      "Epoch 17/25\n",
      "60000/60000 [==============================] - 3s 51us/step - loss: 0.1483 - acc: 0.9646\n",
      "Epoch 18/25\n",
      "60000/60000 [==============================] - 3s 50us/step - loss: 0.1366 - acc: 0.9679\n",
      "Epoch 19/25\n",
      "60000/60000 [==============================] - 3s 53us/step - loss: 0.1318 - acc: 0.9692\n",
      "Epoch 20/25\n",
      "60000/60000 [==============================] - 3s 51us/step - loss: 0.1227 - acc: 0.9698\n",
      "Epoch 21/25\n",
      "60000/60000 [==============================] - 3s 50us/step - loss: 0.1161 - acc: 0.9728\n",
      "Epoch 22/25\n",
      "60000/60000 [==============================] - 3s 49us/step - loss: 0.1133 - acc: 0.9726\n",
      "Epoch 23/25\n",
      "60000/60000 [==============================] - 3s 49us/step - loss: 0.1118 - acc: 0.9733\n",
      "Epoch 24/25\n",
      "60000/60000 [==============================] - 3s 54us/step - loss: 0.1005 - acc: 0.9759\n",
      "Epoch 25/25\n",
      "60000/60000 [==============================] - 4s 59us/step - loss: 0.1003 - acc: 0.9759\n"
     ]
    },
    {
     "data": {
      "text/plain": [
       "<keras.callbacks.History at 0x7fe6c5787ac8>"
      ]
     },
     "execution_count": 97,
     "metadata": {},
     "output_type": "execute_result"
    }
   ],
   "source": [
    "# train\n",
    "classifier.fit(x,y_train,epochs = 25,batch_size=200)"
   ]
  },
  {
   "cell_type": "code",
   "execution_count": 98,
   "metadata": {},
   "outputs": [
    {
     "name": "stdout",
     "output_type": "stream",
     "text": [
      "10000/10000 [==============================] - 1s 92us/step\n"
     ]
    },
    {
     "data": {
      "text/plain": [
       "[0.1274484545156374, 0.9732]"
      ]
     },
     "execution_count": 98,
     "metadata": {},
     "output_type": "execute_result"
    }
   ],
   "source": [
    "# evaluation\n",
    "classifier.evaluate(x_test,y_test)"
   ]
  }
 ],
 "metadata": {
  "kernelspec": {
   "display_name": "Python 3",
   "language": "python",
   "name": "python3"
  },
  "language_info": {
   "codemirror_mode": {
    "name": "ipython",
    "version": 3
   },
   "file_extension": ".py",
   "mimetype": "text/x-python",
   "name": "python",
   "nbconvert_exporter": "python",
   "pygments_lexer": "ipython3",
   "version": "3.6.7"
  }
 },
 "nbformat": 4,
 "nbformat_minor": 2
}
