{
  "nbformat": 4,
  "nbformat_minor": 0,
  "metadata": {
    "colab": {
      "name": "ch-5.ipynb",
      "version": "0.3.2",
      "provenance": [],
      "include_colab_link": true
    },
    "kernelspec": {
      "name": "python3",
      "display_name": "Python 3"
    },
    "accelerator": "GPU"
  },
  "cells": [
    {
      "cell_type": "markdown",
      "metadata": {
        "id": "view-in-github",
        "colab_type": "text"
      },
      "source": [
        "<a href=\"https://colab.research.google.com/github/vibhorrawal/code-backup/blob/master/ml/handson-mlch_5.ipynb\" target=\"_parent\"><img src=\"https://colab.research.google.com/assets/colab-badge.svg\" alt=\"Open In Colab\"/></a>"
      ]
    },
    {
      "cell_type": "code",
      "metadata": {
        "id": "mYBw8PQhS5Hw",
        "colab_type": "code",
        "colab": {}
      },
      "source": [
        "# To support both python 2 and python 3\n",
        "from __future__ import division, print_function, unicode_literals\n",
        "\n",
        "# Common imports\n",
        "import numpy as np\n",
        "import os\n",
        "\n",
        "# to make this notebook's output stable across runs\n",
        "np.random.seed(42)\n",
        "\n",
        "# To plot pretty figures\n",
        "%matplotlib inline\n",
        "import matplotlib as mpl\n",
        "import matplotlib.pyplot as plt\n",
        "mpl.rc('axes', labelsize=14)\n",
        "mpl.rc('xtick', labelsize=12)\n",
        "mpl.rc('ytick', labelsize=12)\n",
        "\n",
        "# Where to save the figures\n",
        "PROJECT_ROOT_DIR = \"/content\"\n",
        "CHAPTER_ID = \"svm\"\n",
        "directory = os.path.join(PROJECT_ROOT_DIR, \"images\",CHAPTER_ID )\n",
        "# import os\n",
        "if not os.path.exists(directory):\n",
        "    os.makedirs(directory)\n",
        "# os.mkdir(os.path.dirname(os.path.join(PROJECT_ROOT_DIR, \"images\")))\n",
        "def save_fig(fig_id, tight_layout=True):\n",
        "    path = os.path.join(PROJECT_ROOT_DIR, \"images\", CHAPTER_ID, fig_id + \".png\")\n",
        "    print(\"Saving figure\", fig_id)\n",
        "    if tight_layout:\n",
        "        plt.tight_layout()\n",
        "    plt.savefig(path, format='png', dpi=300)"
      ],
      "execution_count": 0,
      "outputs": []
    },
    {
      "cell_type": "code",
      "metadata": {
        "id": "0R1tK_jbTugs",
        "colab_type": "code",
        "colab": {
          "base_uri": "https://localhost:8080/",
          "height": 185
        },
        "outputId": "0599b241-4f39-4a98-bd30-d1cab0a2ab4d"
      },
      "source": [
        "from sklearn.svm import LinearSVC\n",
        "from sklearn import datasets\n",
        "from sklearn.pipeline import Pipeline \n",
        "from sklearn.preprocessing import StandardScaler\n",
        "\n",
        "iris = datasets.load_iris()\n",
        "X = iris[\"data\"][:, (2, 3)]  # petal length, petal width\n",
        "y = (iris[\"target\"] == 2).astype(np.float64) # Iris - Virginica\n",
        "\n",
        "svm_clf = Pipeline([\n",
        "    ('scalar', StandardScaler()),\n",
        "    ('linear_svc', LinearSVC(C=1, loss='hinge'))\n",
        "])\n",
        "\n",
        "svm_clf.fit(X, y)"
      ],
      "execution_count": 5,
      "outputs": [
        {
          "output_type": "execute_result",
          "data": {
            "text/plain": [
              "Pipeline(memory=None,\n",
              "         steps=[('scalar',\n",
              "                 StandardScaler(copy=True, with_mean=True, with_std=True)),\n",
              "                ('linear_svc',\n",
              "                 LinearSVC(C=1, class_weight=None, dual=True,\n",
              "                           fit_intercept=True, intercept_scaling=1,\n",
              "                           loss='hinge', max_iter=1000, multi_class='ovr',\n",
              "                           penalty='l2', random_state=None, tol=0.0001,\n",
              "                           verbose=0))],\n",
              "         verbose=False)"
            ]
          },
          "metadata": {
            "tags": []
          },
          "execution_count": 5
        }
      ]
    },
    {
      "cell_type": "code",
      "metadata": {
        "id": "e-z3LsOwaeRz",
        "colab_type": "code",
        "colab": {
          "base_uri": "https://localhost:8080/",
          "height": 34
        },
        "outputId": "c2a2479f-d9e0-452a-c9be-9ee69bdd7628"
      },
      "source": [
        "svm_clf.predict([[5.5, 1.7]])"
      ],
      "execution_count": 8,
      "outputs": [
        {
          "output_type": "execute_result",
          "data": {
            "text/plain": [
              "array([1.])"
            ]
          },
          "metadata": {
            "tags": []
          },
          "execution_count": 8
        }
      ]
    },
    {
      "cell_type": "code",
      "metadata": {
        "id": "BkAuwRtLbOZN",
        "colab_type": "code",
        "colab": {
          "base_uri": "https://localhost:8080/",
          "height": 739
        },
        "outputId": "138bcb63-c918-46c8-de00-d383b2c441b2"
      },
      "source": [
        "!top"
      ],
      "execution_count": 7,
      "outputs": [
        {
          "output_type": "stream",
          "text": [
            "\u001b[?1h\u001b=\u001b[H\u001b[2J\u001b[mtop - 10:24:43 up  4:43,  0 users,  load average: 0.00, 0.00, 0.00\u001b[m\u001b[m\u001b[m\u001b[m\u001b[K\n",
            "Tasks:\u001b[m\u001b[m\u001b[1m   7 \u001b[m\u001b[mtotal,\u001b[m\u001b[m\u001b[1m   1 \u001b[m\u001b[mrunning,\u001b[m\u001b[m\u001b[1m   6 \u001b[m\u001b[msleeping,\u001b[m\u001b[m\u001b[1m   0 \u001b[m\u001b[mstopped,\u001b[m\u001b[m\u001b[1m   0 \u001b[m\u001b[mzombie\u001b[m\u001b[m\u001b[m\u001b[m\u001b[K\n",
            "%Cpu(s):\u001b[m\u001b[m\u001b[1m  0.4 \u001b[m\u001b[mus,\u001b[m\u001b[m\u001b[1m  0.7 \u001b[m\u001b[msy,\u001b[m\u001b[m\u001b[1m  0.0 \u001b[m\u001b[mni,\u001b[m\u001b[m\u001b[1m 98.8 \u001b[m\u001b[mid,\u001b[m\u001b[m\u001b[1m  0.0 \u001b[m\u001b[mwa,\u001b[m\u001b[m\u001b[1m  0.0 \u001b[m\u001b[mhi,\u001b[m\u001b[m\u001b[1m  0.0 \u001b[m\u001b[msi,\u001b[m\u001b[m\u001b[1m  0.0 \u001b[m\u001b[mst\u001b[m\u001b[m\u001b[m\u001b[m\u001b[K\n",
            "KiB Mem :\u001b[m\u001b[m\u001b[1m 13335268 \u001b[m\u001b[mtotal,\u001b[m\u001b[m\u001b[1m 11047984 \u001b[m\u001b[mfree,\u001b[m\u001b[m\u001b[1m   460116 \u001b[m\u001b[mused,\u001b[m\u001b[m\u001b[1m  1827168 \u001b[m\u001b[mbuff/cache\u001b[m\u001b[m\u001b[m\u001b[m\u001b[K\n",
            "KiB Swap:\u001b[m\u001b[m\u001b[1m        0 \u001b[m\u001b[mtotal,\u001b[m\u001b[m\u001b[1m        0 \u001b[m\u001b[mfree,\u001b[m\u001b[m\u001b[1m        0 \u001b[m\u001b[mused.\u001b[m\u001b[m\u001b[1m 12610376 \u001b[m\u001b[mavail Mem \u001b[m\u001b[m\u001b[m\u001b[m\u001b[K\n",
            "\u001b[K\n",
            "\u001b[7m    PID USER      PR  NI    VIRT    RES    SHR S  %CPU %MEM     TIME+ COMMAND   \u001b[m\u001b[m\u001b[K\n",
            "\u001b[m      1 root      20   0   39192   6436   4968 S   0.0  0.0   0:00.03 run.sh    \u001b[m\u001b[m\u001b[K\n",
            "\u001b[m      7 root      20   0  689300  59360  24940 S   0.0  0.4   0:04.59 node      \u001b[m\u001b[m\u001b[K\n",
            "\u001b[m     23 root      20   0  402456  98976  26164 S   0.0  0.7   0:08.54 jupyter-+ \u001b[m\u001b[m\u001b[K\n",
            "\u001b[m    117 root      20   0   35884   4896   3800 S   0.0  0.0   0:00.79 tail      \u001b[m\u001b[m\u001b[K\n",
            "\u001b[m    128 root      20   0  740604 153836  44516 S   0.0  1.2   0:03.50 python3   \u001b[m\u001b[m\u001b[K\n",
            "\u001b[m    422 root      20   0   54632  14792   7652 S   0.0  0.1   0:00.05 python3   \u001b[m\u001b[m\u001b[K\n",
            "\u001b[m\u001b[1m   1107 root      20   0   63180   6644   4916 R   0.0  0.0   0:00.00 top       \u001b[m\u001b[m\u001b[K\n",
            "\u001b[J\u001b[H\u001b[mtop - 10:24:46 up  4:43,  0 users,  load average: 0.00, 0.00, 0.00\u001b[m\u001b[m\u001b[m\u001b[m\u001b[K\n",
            "Tasks:\u001b[m\u001b[m\u001b[1m   7 \u001b[m\u001b[mtotal,\u001b[m\u001b[m\u001b[1m   1 \u001b[m\u001b[mrunning,\u001b[m\u001b[m\u001b[1m   6 \u001b[m\u001b[msleeping,\u001b[m\u001b[m\u001b[1m   0 \u001b[m\u001b[mstopped,\u001b[m\u001b[m\u001b[1m   0 \u001b[m\u001b[mzombie\u001b[m\u001b[m\u001b[m\u001b[m\u001b[K\n",
            "%Cpu(s):\u001b[m\u001b[m\u001b[1m  0.8 \u001b[m\u001b[mus,\u001b[m\u001b[m\u001b[1m  0.8 \u001b[m\u001b[msy,\u001b[m\u001b[m\u001b[1m  0.0 \u001b[m\u001b[mni,\u001b[m\u001b[m\u001b[1m 98.3 \u001b[m\u001b[mid,\u001b[m\u001b[m\u001b[1m  0.0 \u001b[m\u001b[mwa,\u001b[m\u001b[m\u001b[1m  0.0 \u001b[m\u001b[mhi,\u001b[m\u001b[m\u001b[1m  0.0 \u001b[m\u001b[msi,\u001b[m\u001b[m\u001b[1m  0.0 \u001b[m\u001b[mst\u001b[m\u001b[m\u001b[m\u001b[m\u001b[K\n",
            "KiB Mem :\u001b[m\u001b[m\u001b[1m 13335268 \u001b[m\u001b[mtotal,\u001b[m\u001b[m\u001b[1m 11048868 \u001b[m\u001b[mfree,\u001b[m\u001b[m\u001b[1m   458976 \u001b[m\u001b[mused,\u001b[m\u001b[m\u001b[1m  1827424 \u001b[m\u001b[mbuff/cache\u001b[m\u001b[m\u001b[m\u001b[m\u001b[K\n",
            "KiB Swap:\u001b[m\u001b[m\u001b[1m        0 \u001b[m\u001b[mtotal,\u001b[m\u001b[m\u001b[1m        0 \u001b[m\u001b[mfree,\u001b[m\u001b[m\u001b[1m        0 \u001b[m\u001b[mused.\u001b[m\u001b[m\u001b[1m 12611508 \u001b[m\u001b[mavail Mem \u001b[m\u001b[m\u001b[m\u001b[m\u001b[K\n",
            "\u001b[K\n",
            "\n",
            "\u001b[m    128 root      20   0  741636 153864  44516 S   0.7  1.2   0:03.52 python3   \u001b[m\u001b[m\u001b[K\n",
            "\u001b[m     23 root      20   0  402456  98984  26164 S   0.3  0.7   0:08.55 jupyter-+ \u001b[m\u001b[m\u001b[K\n",
            "\u001b[m\u001b[1m   1107 root      20   0   63180   6644   4916 R   0.3  0.0   0:00.01 top       \u001b[m\u001b[m\u001b[K\n",
            "\u001b[m      1 root      20   0   39192   6436   4968 S   0.0  0.0   0:00.03 run.sh    \u001b[m\u001b[m\u001b[K\n",
            "\u001b[m      7 root      20   0  689300  58588  24940 S   0.0  0.4   0:04.59 node      \u001b[m\u001b[m\u001b[K\n",
            "\u001b[m    117 root      20   0   35884   4896   3800 S   0.0  0.0   0:00.79 tail      \u001b[m\u001b[m\u001b[K\n",
            "\u001b[m    422 root      20   0   54632  14792   7652 S   0.0  0.1   0:00.05 python3   \u001b[m\u001b[m\u001b[K\n",
            "\u001b[J\u001b[H\u001b[mtop - 10:24:49 up  4:43,  0 users,  load average: 0.00, 0.00, 0.00\u001b[m\u001b[m\u001b[m\u001b[m\u001b[K\n",
            "\n",
            "%Cpu(s):\u001b[m\u001b[m\u001b[1m  0.8 \u001b[m\u001b[mus,\u001b[m\u001b[m\u001b[1m  0.7 \u001b[m\u001b[msy,\u001b[m\u001b[m\u001b[1m  0.0 \u001b[m\u001b[mni,\u001b[m\u001b[m\u001b[1m 98.5 \u001b[m\u001b[mid,\u001b[m\u001b[m\u001b[1m  0.0 \u001b[m\u001b[mwa,\u001b[m\u001b[m\u001b[1m  0.0 \u001b[m\u001b[mhi,\u001b[m\u001b[m\u001b[1m  0.0 \u001b[m\u001b[msi,\u001b[m\u001b[m\u001b[1m  0.0 \u001b[m\u001b[mst\u001b[m\u001b[m\u001b[m\u001b[m\u001b[K\n",
            "KiB Mem :\u001b[m\u001b[m\u001b[1m 13335268 \u001b[m\u001b[mtotal,\u001b[m\u001b[m\u001b[1m 11048932 \u001b[m\u001b[mfree,\u001b[m\u001b[m\u001b[1m   458844 \u001b[m\u001b[mused,\u001b[m\u001b[m\u001b[1m  1827492 \u001b[m\u001b[mbuff/cache\u001b[m\u001b[m\u001b[m\u001b[m\u001b[K\n",
            "KiB Swap:\u001b[m\u001b[m\u001b[1m        0 \u001b[m\u001b[mtotal,\u001b[m\u001b[m\u001b[1m        0 \u001b[m\u001b[mfree,\u001b[m\u001b[m\u001b[1m        0 \u001b[m\u001b[mused.\u001b[m\u001b[m\u001b[1m 12611648 \u001b[m\u001b[mavail Mem \u001b[m\u001b[m\u001b[m\u001b[m\u001b[K\n",
            "\u001b[K\n",
            "\n",
            "\u001b[m     23 root      20   0  402456  98984  26164 S   0.3  0.7   0:08.56 jupyter-+ \u001b[m\u001b[m\u001b[K\n",
            "\u001b[m    128 root      20   0  741636 153864  44516 S   0.3  1.2   0:03.53 python3   \u001b[m\u001b[m\u001b[K\n",
            "\u001b[m      1 root      20   0   39192   6436   4968 S   0.0  0.0   0:00.03 run.sh    \u001b[m\u001b[m\u001b[K\n",
            "\u001b[m      7 root      20   0  689300  58588  24940 S   0.0  0.4   0:04.59 node      \u001b[m\u001b[m\u001b[K\n",
            "\u001b[m    117 root      20   0   35884   4896   3800 S   0.0  0.0   0:00.79 tail      \u001b[m\u001b[m\u001b[K\n",
            "\u001b[m    422 root      20   0   54632  14792   7652 S   0.0  0.1   0:00.05 python3   \u001b[m\u001b[m\u001b[K\n",
            "\u001b[m\u001b[1m   1107 root      20   0   63180   6644   4916 R   0.0  0.0   0:00.01 top       \u001b[m\u001b[m\u001b[K\n",
            "\u001b[J\u001b[?1l\u001b>\u001b[25;1H\n",
            "\u001b[K"
          ],
          "name": "stdout"
        }
      ]
    },
    {
      "cell_type": "code",
      "metadata": {
        "id": "Gq2y6NYEUY69",
        "colab_type": "code",
        "colab": {}
      },
      "source": [
        ""
      ],
      "execution_count": 0,
      "outputs": []
    }
  ]
}